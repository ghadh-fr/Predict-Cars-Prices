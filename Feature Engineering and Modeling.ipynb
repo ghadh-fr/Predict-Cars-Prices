{
 "cells": [
  {
   "cell_type": "code",
   "execution_count": 1,
   "metadata": {},
   "outputs": [],
   "source": [
    "import numpy as np\n",
    "import pandas as pd \n",
    "import matplotlib.pyplot as plt\n",
    "import seaborn as sns\n",
    "from sklearn import linear_model\n",
    "from sklearn.linear_model import LinearRegression, Lasso, Ridge, LassoCV\n",
    "import statsmodels.api as sm\n",
    "from sklearn.model_selection import cross_val_score, train_test_split, KFold, GridSearchCV\n",
    "from sklearn.metrics import mean_squared_error, mean_absolute_error,r2_score\n",
    "import sklearn.metrics as metrics\n",
    "from scipy.stats.mstats import winsorize\n",
    "from sklearn.preprocessing import StandardScaler, PolynomialFeatures"
   ]
  },
  {
   "cell_type": "code",
   "execution_count": 2,
   "metadata": {},
   "outputs": [],
   "source": [
    "df = pd.read_csv('cars.csv')"
   ]
  },
  {
   "cell_type": "code",
   "execution_count": 3,
   "metadata": {},
   "outputs": [
    {
     "data": {
      "text/html": [
       "<div>\n",
       "<style scoped>\n",
       "    .dataframe tbody tr th:only-of-type {\n",
       "        vertical-align: middle;\n",
       "    }\n",
       "\n",
       "    .dataframe tbody tr th {\n",
       "        vertical-align: top;\n",
       "    }\n",
       "\n",
       "    .dataframe thead th {\n",
       "        text-align: right;\n",
       "    }\n",
       "</style>\n",
       "<table border=\"1\" class=\"dataframe\">\n",
       "  <thead>\n",
       "    <tr style=\"text-align: right;\">\n",
       "      <th></th>\n",
       "      <th>CAR_NAME</th>\n",
       "      <th>MODEL</th>\n",
       "      <th>NO_OF_YEARS</th>\n",
       "      <th>DEALER</th>\n",
       "      <th>MILES_DRIVEN</th>\n",
       "      <th>RATE</th>\n",
       "      <th>NO_OF_REVIEWS</th>\n",
       "      <th>PRICE</th>\n",
       "    </tr>\n",
       "  </thead>\n",
       "  <tbody>\n",
       "    <tr>\n",
       "      <th>0</th>\n",
       "      <td>Audi A4 2.0T Premium Plus</td>\n",
       "      <td>2018</td>\n",
       "      <td>3</td>\n",
       "      <td>The Audi Exchange</td>\n",
       "      <td>43152</td>\n",
       "      <td>4.8</td>\n",
       "      <td>654</td>\n",
       "      <td>29587</td>\n",
       "    </tr>\n",
       "    <tr>\n",
       "      <th>1</th>\n",
       "      <td>Audi Q5 3.0T Premium Plus</td>\n",
       "      <td>2016</td>\n",
       "      <td>5</td>\n",
       "      <td>Fletcher Jones Audi</td>\n",
       "      <td>32666</td>\n",
       "      <td>4.8</td>\n",
       "      <td>1048</td>\n",
       "      <td>31881</td>\n",
       "    </tr>\n",
       "    <tr>\n",
       "      <th>2</th>\n",
       "      <td>Audi S5 3.0 Prestige quattro</td>\n",
       "      <td>2012</td>\n",
       "      <td>9</td>\n",
       "      <td>Volkswagen of Downtown Chicago</td>\n",
       "      <td>28552</td>\n",
       "      <td>4.6</td>\n",
       "      <td>1442</td>\n",
       "      <td>29000</td>\n",
       "    </tr>\n",
       "    <tr>\n",
       "      <th>3</th>\n",
       "      <td>Audi Q3 45 S line Premium</td>\n",
       "      <td>2019</td>\n",
       "      <td>0</td>\n",
       "      <td>Volkswagen of Downtown Chicago</td>\n",
       "      <td>16027</td>\n",
       "      <td>4.6</td>\n",
       "      <td>1442</td>\n",
       "      <td>39000</td>\n",
       "    </tr>\n",
       "    <tr>\n",
       "      <th>4</th>\n",
       "      <td>Audi Q5 2.0T Premium Plus</td>\n",
       "      <td>2014</td>\n",
       "      <td>7</td>\n",
       "      <td>Toyota of Lincoln Park</td>\n",
       "      <td>64698</td>\n",
       "      <td>4.2</td>\n",
       "      <td>216</td>\n",
       "      <td>20900</td>\n",
       "    </tr>\n",
       "    <tr>\n",
       "      <th>...</th>\n",
       "      <td>...</td>\n",
       "      <td>...</td>\n",
       "      <td>...</td>\n",
       "      <td>...</td>\n",
       "      <td>...</td>\n",
       "      <td>...</td>\n",
       "      <td>...</td>\n",
       "      <td>...</td>\n",
       "    </tr>\n",
       "    <tr>\n",
       "      <th>682</th>\n",
       "      <td>Audi S4 3.0T Premium Plus</td>\n",
       "      <td>2014</td>\n",
       "      <td>7</td>\n",
       "      <td>Adam Auto Group</td>\n",
       "      <td>100495</td>\n",
       "      <td>4.6</td>\n",
       "      <td>1074</td>\n",
       "      <td>20885</td>\n",
       "    </tr>\n",
       "    <tr>\n",
       "      <th>683</th>\n",
       "      <td>Audi A5 2.0T Premium Plus</td>\n",
       "      <td>2013</td>\n",
       "      <td>8</td>\n",
       "      <td>Guaranteed Motor Cars</td>\n",
       "      <td>74437</td>\n",
       "      <td>4.7</td>\n",
       "      <td>2096</td>\n",
       "      <td>24900</td>\n",
       "    </tr>\n",
       "    <tr>\n",
       "      <th>684</th>\n",
       "      <td>Audi S5 4.2 Premium Plus quattro</td>\n",
       "      <td>2011</td>\n",
       "      <td>10</td>\n",
       "      <td>Coda Motors</td>\n",
       "      <td>100495</td>\n",
       "      <td>4.2</td>\n",
       "      <td>55</td>\n",
       "      <td>16990</td>\n",
       "    </tr>\n",
       "    <tr>\n",
       "      <th>685</th>\n",
       "      <td>Audi Q7 55 Prestige</td>\n",
       "      <td>2019</td>\n",
       "      <td>2</td>\n",
       "      <td>Audi Morton Grove</td>\n",
       "      <td>48335</td>\n",
       "      <td>4.8</td>\n",
       "      <td>630</td>\n",
       "      <td>52999</td>\n",
       "    </tr>\n",
       "    <tr>\n",
       "      <th>686</th>\n",
       "      <td>Audi Q7 3.6 Prestige</td>\n",
       "      <td>2010</td>\n",
       "      <td>11</td>\n",
       "      <td>ACL Sales &amp; Leasing</td>\n",
       "      <td>100495</td>\n",
       "      <td>4.6</td>\n",
       "      <td>634</td>\n",
       "      <td>14995</td>\n",
       "    </tr>\n",
       "  </tbody>\n",
       "</table>\n",
       "<p>687 rows × 8 columns</p>\n",
       "</div>"
      ],
      "text/plain": [
       "                             CAR_NAME  MODEL  NO_OF_YEARS  \\\n",
       "0           Audi A4 2.0T Premium Plus   2018            3   \n",
       "1           Audi Q5 3.0T Premium Plus   2016            5   \n",
       "2        Audi S5 3.0 Prestige quattro   2012            9   \n",
       "3           Audi Q3 45 S line Premium   2019            0   \n",
       "4           Audi Q5 2.0T Premium Plus   2014            7   \n",
       "..                                ...    ...          ...   \n",
       "682         Audi S4 3.0T Premium Plus   2014            7   \n",
       "683         Audi A5 2.0T Premium Plus   2013            8   \n",
       "684  Audi S5 4.2 Premium Plus quattro   2011           10   \n",
       "685               Audi Q7 55 Prestige   2019            2   \n",
       "686              Audi Q7 3.6 Prestige   2010           11   \n",
       "\n",
       "                             DEALER  MILES_DRIVEN  RATE  NO_OF_REVIEWS  PRICE  \n",
       "0                 The Audi Exchange         43152   4.8            654  29587  \n",
       "1               Fletcher Jones Audi         32666   4.8           1048  31881  \n",
       "2    Volkswagen of Downtown Chicago         28552   4.6           1442  29000  \n",
       "3    Volkswagen of Downtown Chicago         16027   4.6           1442  39000  \n",
       "4            Toyota of Lincoln Park         64698   4.2            216  20900  \n",
       "..                              ...           ...   ...            ...    ...  \n",
       "682                 Adam Auto Group        100495   4.6           1074  20885  \n",
       "683           Guaranteed Motor Cars         74437   4.7           2096  24900  \n",
       "684                     Coda Motors        100495   4.2             55  16990  \n",
       "685               Audi Morton Grove         48335   4.8            630  52999  \n",
       "686             ACL Sales & Leasing        100495   4.6            634  14995  \n",
       "\n",
       "[687 rows x 8 columns]"
      ]
     },
     "execution_count": 3,
     "metadata": {},
     "output_type": "execute_result"
    }
   ],
   "source": [
    "df"
   ]
  },
  {
   "cell_type": "code",
   "execution_count": 4,
   "metadata": {},
   "outputs": [
    {
     "name": "stdout",
     "output_type": "stream",
     "text": [
      "<class 'pandas.core.frame.DataFrame'>\n",
      "RangeIndex: 687 entries, 0 to 686\n",
      "Data columns (total 8 columns):\n",
      " #   Column         Non-Null Count  Dtype  \n",
      "---  ------         --------------  -----  \n",
      " 0   CAR_NAME       687 non-null    object \n",
      " 1   MODEL          687 non-null    int64  \n",
      " 2   NO_OF_YEARS    687 non-null    int64  \n",
      " 3   DEALER         687 non-null    object \n",
      " 4   MILES_DRIVEN   687 non-null    int64  \n",
      " 5   RATE           687 non-null    float64\n",
      " 6   NO_OF_REVIEWS  687 non-null    int64  \n",
      " 7   PRICE          687 non-null    int64  \n",
      "dtypes: float64(1), int64(5), object(2)\n",
      "memory usage: 43.1+ KB\n"
     ]
    }
   ],
   "source": [
    "df.info()"
   ]
  },
  {
   "cell_type": "code",
   "execution_count": 5,
   "metadata": {},
   "outputs": [
    {
     "data": {
      "text/html": [
       "<div>\n",
       "<style scoped>\n",
       "    .dataframe tbody tr th:only-of-type {\n",
       "        vertical-align: middle;\n",
       "    }\n",
       "\n",
       "    .dataframe tbody tr th {\n",
       "        vertical-align: top;\n",
       "    }\n",
       "\n",
       "    .dataframe thead th {\n",
       "        text-align: right;\n",
       "    }\n",
       "</style>\n",
       "<table border=\"1\" class=\"dataframe\">\n",
       "  <thead>\n",
       "    <tr style=\"text-align: right;\">\n",
       "      <th></th>\n",
       "      <th>CAR_NAME</th>\n",
       "      <th>MODEL</th>\n",
       "      <th>NO_OF_YEARS</th>\n",
       "      <th>DEALER</th>\n",
       "      <th>MILES_DRIVEN</th>\n",
       "      <th>RATE</th>\n",
       "      <th>NO_OF_REVIEWS</th>\n",
       "      <th>PRICE</th>\n",
       "    </tr>\n",
       "  </thead>\n",
       "  <tbody>\n",
       "    <tr>\n",
       "      <th>0</th>\n",
       "      <td>Audi A4 2.0T Premium Plus</td>\n",
       "      <td>2018</td>\n",
       "      <td>3</td>\n",
       "      <td>The Audi Exchange</td>\n",
       "      <td>43152</td>\n",
       "      <td>4.8</td>\n",
       "      <td>654</td>\n",
       "      <td>29587</td>\n",
       "    </tr>\n",
       "    <tr>\n",
       "      <th>1</th>\n",
       "      <td>Audi Q5 3.0T Premium Plus</td>\n",
       "      <td>2016</td>\n",
       "      <td>5</td>\n",
       "      <td>Fletcher Jones Audi</td>\n",
       "      <td>32666</td>\n",
       "      <td>4.8</td>\n",
       "      <td>1048</td>\n",
       "      <td>31881</td>\n",
       "    </tr>\n",
       "    <tr>\n",
       "      <th>2</th>\n",
       "      <td>Audi S5 3.0 Prestige quattro</td>\n",
       "      <td>2012</td>\n",
       "      <td>9</td>\n",
       "      <td>Volkswagen of Downtown Chicago</td>\n",
       "      <td>28552</td>\n",
       "      <td>4.6</td>\n",
       "      <td>1442</td>\n",
       "      <td>29000</td>\n",
       "    </tr>\n",
       "    <tr>\n",
       "      <th>3</th>\n",
       "      <td>Audi Q3 45 S line Premium</td>\n",
       "      <td>2019</td>\n",
       "      <td>0</td>\n",
       "      <td>Volkswagen of Downtown Chicago</td>\n",
       "      <td>16027</td>\n",
       "      <td>4.6</td>\n",
       "      <td>1442</td>\n",
       "      <td>39000</td>\n",
       "    </tr>\n",
       "    <tr>\n",
       "      <th>4</th>\n",
       "      <td>Audi Q5 2.0T Premium Plus</td>\n",
       "      <td>2014</td>\n",
       "      <td>7</td>\n",
       "      <td>Toyota of Lincoln Park</td>\n",
       "      <td>64698</td>\n",
       "      <td>4.2</td>\n",
       "      <td>216</td>\n",
       "      <td>20900</td>\n",
       "    </tr>\n",
       "  </tbody>\n",
       "</table>\n",
       "</div>"
      ],
      "text/plain": [
       "                       CAR_NAME  MODEL  NO_OF_YEARS  \\\n",
       "0     Audi A4 2.0T Premium Plus   2018            3   \n",
       "1     Audi Q5 3.0T Premium Plus   2016            5   \n",
       "2  Audi S5 3.0 Prestige quattro   2012            9   \n",
       "3     Audi Q3 45 S line Premium   2019            0   \n",
       "4     Audi Q5 2.0T Premium Plus   2014            7   \n",
       "\n",
       "                           DEALER  MILES_DRIVEN  RATE  NO_OF_REVIEWS  PRICE  \n",
       "0               The Audi Exchange         43152   4.8            654  29587  \n",
       "1             Fletcher Jones Audi         32666   4.8           1048  31881  \n",
       "2  Volkswagen of Downtown Chicago         28552   4.6           1442  29000  \n",
       "3  Volkswagen of Downtown Chicago         16027   4.6           1442  39000  \n",
       "4          Toyota of Lincoln Park         64698   4.2            216  20900  "
      ]
     },
     "execution_count": 5,
     "metadata": {},
     "output_type": "execute_result"
    }
   ],
   "source": [
    "df.head()"
   ]
  },
  {
   "cell_type": "markdown",
   "metadata": {},
   "source": [
    "# Feature Engineering"
   ]
  },
  {
   "cell_type": "code",
   "execution_count": 6,
   "metadata": {},
   "outputs": [
    {
     "data": {
      "text/html": [
       "<div>\n",
       "<style scoped>\n",
       "    .dataframe tbody tr th:only-of-type {\n",
       "        vertical-align: middle;\n",
       "    }\n",
       "\n",
       "    .dataframe tbody tr th {\n",
       "        vertical-align: top;\n",
       "    }\n",
       "\n",
       "    .dataframe thead th {\n",
       "        text-align: right;\n",
       "    }\n",
       "</style>\n",
       "<table border=\"1\" class=\"dataframe\">\n",
       "  <thead>\n",
       "    <tr style=\"text-align: right;\">\n",
       "      <th></th>\n",
       "      <th>MODEL</th>\n",
       "      <th>NO_OF_YEARS</th>\n",
       "      <th>MILES_DRIVEN</th>\n",
       "      <th>RATE</th>\n",
       "      <th>NO_OF_REVIEWS</th>\n",
       "      <th>PRICE</th>\n",
       "    </tr>\n",
       "  </thead>\n",
       "  <tbody>\n",
       "    <tr>\n",
       "      <th>MODEL</th>\n",
       "      <td>1.000000</td>\n",
       "      <td>-0.990396</td>\n",
       "      <td>-0.746628</td>\n",
       "      <td>0.005050</td>\n",
       "      <td>0.022436</td>\n",
       "      <td>0.813331</td>\n",
       "    </tr>\n",
       "    <tr>\n",
       "      <th>NO_OF_YEARS</th>\n",
       "      <td>-0.990396</td>\n",
       "      <td>1.000000</td>\n",
       "      <td>0.768762</td>\n",
       "      <td>-0.006688</td>\n",
       "      <td>-0.014742</td>\n",
       "      <td>-0.823697</td>\n",
       "    </tr>\n",
       "    <tr>\n",
       "      <th>MILES_DRIVEN</th>\n",
       "      <td>-0.746628</td>\n",
       "      <td>0.768762</td>\n",
       "      <td>1.000000</td>\n",
       "      <td>0.012953</td>\n",
       "      <td>-0.060516</td>\n",
       "      <td>-0.814461</td>\n",
       "    </tr>\n",
       "    <tr>\n",
       "      <th>RATE</th>\n",
       "      <td>0.005050</td>\n",
       "      <td>-0.006688</td>\n",
       "      <td>0.012953</td>\n",
       "      <td>1.000000</td>\n",
       "      <td>0.124990</td>\n",
       "      <td>-0.007720</td>\n",
       "    </tr>\n",
       "    <tr>\n",
       "      <th>NO_OF_REVIEWS</th>\n",
       "      <td>0.022436</td>\n",
       "      <td>-0.014742</td>\n",
       "      <td>-0.060516</td>\n",
       "      <td>0.124990</td>\n",
       "      <td>1.000000</td>\n",
       "      <td>-0.014729</td>\n",
       "    </tr>\n",
       "    <tr>\n",
       "      <th>PRICE</th>\n",
       "      <td>0.813331</td>\n",
       "      <td>-0.823697</td>\n",
       "      <td>-0.814461</td>\n",
       "      <td>-0.007720</td>\n",
       "      <td>-0.014729</td>\n",
       "      <td>1.000000</td>\n",
       "    </tr>\n",
       "  </tbody>\n",
       "</table>\n",
       "</div>"
      ],
      "text/plain": [
       "                  MODEL  NO_OF_YEARS  MILES_DRIVEN      RATE  NO_OF_REVIEWS  \\\n",
       "MODEL          1.000000    -0.990396     -0.746628  0.005050       0.022436   \n",
       "NO_OF_YEARS   -0.990396     1.000000      0.768762 -0.006688      -0.014742   \n",
       "MILES_DRIVEN  -0.746628     0.768762      1.000000  0.012953      -0.060516   \n",
       "RATE           0.005050    -0.006688      0.012953  1.000000       0.124990   \n",
       "NO_OF_REVIEWS  0.022436    -0.014742     -0.060516  0.124990       1.000000   \n",
       "PRICE          0.813331    -0.823697     -0.814461 -0.007720      -0.014729   \n",
       "\n",
       "                  PRICE  \n",
       "MODEL          0.813331  \n",
       "NO_OF_YEARS   -0.823697  \n",
       "MILES_DRIVEN  -0.814461  \n",
       "RATE          -0.007720  \n",
       "NO_OF_REVIEWS -0.014729  \n",
       "PRICE          1.000000  "
      ]
     },
     "execution_count": 6,
     "metadata": {},
     "output_type": "execute_result"
    }
   ],
   "source": [
    "df.corr()"
   ]
  },
  {
   "cell_type": "markdown",
   "metadata": {},
   "source": [
    "#### Drop 'DEALER'"
   ]
  },
  {
   "cell_type": "code",
   "execution_count": 7,
   "metadata": {},
   "outputs": [],
   "source": [
    "df.drop(columns=['DEALER'],inplace=True)"
   ]
  },
  {
   "cell_type": "markdown",
   "metadata": {},
   "source": [
    "#### Drop 'MODEL'"
   ]
  },
  {
   "cell_type": "code",
   "execution_count": 8,
   "metadata": {},
   "outputs": [],
   "source": [
    "df.drop(columns=['MODEL'],inplace=True)"
   ]
  },
  {
   "cell_type": "markdown",
   "metadata": {},
   "source": [
    "#### Convert 'CAR_NAME' Into a Dummy Variable"
   ]
  },
  {
   "cell_type": "code",
   "execution_count": 9,
   "metadata": {},
   "outputs": [
    {
     "data": {
      "text/plain": [
       "Audi Q5 2.0T Premium Plus        45\n",
       "Audi A4 2.0T Premium Plus        33\n",
       "Audi Q7 3.0T Premium Plus        23\n",
       "Audi A3 2.0T Premium             23\n",
       "Audi A4 2.0T Premium             21\n",
       "                                 ..\n",
       "Audi A6 3.0T Premium quattro      1\n",
       "Audi S6 4.0T Premium Plus         1\n",
       "Audi RS Q8 4.0T quattro           1\n",
       "Audi TTS 2.0T Premium quattro     1\n",
       "Audi A4 2.0T quattro              1\n",
       "Name: CAR_NAME, Length: 160, dtype: int64"
      ]
     },
     "execution_count": 9,
     "metadata": {},
     "output_type": "execute_result"
    }
   ],
   "source": [
    "df['CAR_NAME'].value_counts().sort_values(ascending=False)"
   ]
  },
  {
   "cell_type": "code",
   "execution_count": 10,
   "metadata": {},
   "outputs": [
    {
     "data": {
      "text/html": [
       "<div>\n",
       "<style scoped>\n",
       "    .dataframe tbody tr th:only-of-type {\n",
       "        vertical-align: middle;\n",
       "    }\n",
       "\n",
       "    .dataframe tbody tr th {\n",
       "        vertical-align: top;\n",
       "    }\n",
       "\n",
       "    .dataframe thead th {\n",
       "        text-align: right;\n",
       "    }\n",
       "</style>\n",
       "<table border=\"1\" class=\"dataframe\">\n",
       "  <thead>\n",
       "    <tr style=\"text-align: right;\">\n",
       "      <th></th>\n",
       "      <th>NO_OF_YEARS</th>\n",
       "      <th>MILES_DRIVEN</th>\n",
       "      <th>RATE</th>\n",
       "      <th>NO_OF_REVIEWS</th>\n",
       "      <th>PRICE</th>\n",
       "      <th>CAR_NAME_Audi A3 2.0 TDI Premium</th>\n",
       "      <th>CAR_NAME_Audi A3 2.0 TDI Premium Plus</th>\n",
       "      <th>CAR_NAME_Audi A3 2.0 TDI Prestige</th>\n",
       "      <th>CAR_NAME_Audi A3 2.0T Premium</th>\n",
       "      <th>CAR_NAME_Audi A3 2.0T Premium Plus</th>\n",
       "      <th>...</th>\n",
       "      <th>CAR_NAME_Audi TT RS 2.5T</th>\n",
       "      <th>CAR_NAME_Audi TTS 2.0T Premium quattro</th>\n",
       "      <th>CAR_NAME_Audi TTS 2.0T Prestige quattro</th>\n",
       "      <th>CAR_NAME_Audi TTS 2.0T quattro</th>\n",
       "      <th>CAR_NAME_Audi allroad 2.0T Premium Plus</th>\n",
       "      <th>CAR_NAME_Audi allroad 2.0T Premium Plus quattro</th>\n",
       "      <th>CAR_NAME_Audi allroad 2.0T Premium quattro</th>\n",
       "      <th>CAR_NAME_Audi e-tron Premium</th>\n",
       "      <th>CAR_NAME_Audi e-tron Premium Plus</th>\n",
       "      <th>CAR_NAME_Audi e-tron Prestige</th>\n",
       "    </tr>\n",
       "  </thead>\n",
       "  <tbody>\n",
       "    <tr>\n",
       "      <th>0</th>\n",
       "      <td>3</td>\n",
       "      <td>43152</td>\n",
       "      <td>4.8</td>\n",
       "      <td>654</td>\n",
       "      <td>29587</td>\n",
       "      <td>0</td>\n",
       "      <td>0</td>\n",
       "      <td>0</td>\n",
       "      <td>0</td>\n",
       "      <td>0</td>\n",
       "      <td>...</td>\n",
       "      <td>0</td>\n",
       "      <td>0</td>\n",
       "      <td>0</td>\n",
       "      <td>0</td>\n",
       "      <td>0</td>\n",
       "      <td>0</td>\n",
       "      <td>0</td>\n",
       "      <td>0</td>\n",
       "      <td>0</td>\n",
       "      <td>0</td>\n",
       "    </tr>\n",
       "    <tr>\n",
       "      <th>1</th>\n",
       "      <td>5</td>\n",
       "      <td>32666</td>\n",
       "      <td>4.8</td>\n",
       "      <td>1048</td>\n",
       "      <td>31881</td>\n",
       "      <td>0</td>\n",
       "      <td>0</td>\n",
       "      <td>0</td>\n",
       "      <td>0</td>\n",
       "      <td>0</td>\n",
       "      <td>...</td>\n",
       "      <td>0</td>\n",
       "      <td>0</td>\n",
       "      <td>0</td>\n",
       "      <td>0</td>\n",
       "      <td>0</td>\n",
       "      <td>0</td>\n",
       "      <td>0</td>\n",
       "      <td>0</td>\n",
       "      <td>0</td>\n",
       "      <td>0</td>\n",
       "    </tr>\n",
       "    <tr>\n",
       "      <th>2</th>\n",
       "      <td>9</td>\n",
       "      <td>28552</td>\n",
       "      <td>4.6</td>\n",
       "      <td>1442</td>\n",
       "      <td>29000</td>\n",
       "      <td>0</td>\n",
       "      <td>0</td>\n",
       "      <td>0</td>\n",
       "      <td>0</td>\n",
       "      <td>0</td>\n",
       "      <td>...</td>\n",
       "      <td>0</td>\n",
       "      <td>0</td>\n",
       "      <td>0</td>\n",
       "      <td>0</td>\n",
       "      <td>0</td>\n",
       "      <td>0</td>\n",
       "      <td>0</td>\n",
       "      <td>0</td>\n",
       "      <td>0</td>\n",
       "      <td>0</td>\n",
       "    </tr>\n",
       "    <tr>\n",
       "      <th>3</th>\n",
       "      <td>0</td>\n",
       "      <td>16027</td>\n",
       "      <td>4.6</td>\n",
       "      <td>1442</td>\n",
       "      <td>39000</td>\n",
       "      <td>0</td>\n",
       "      <td>0</td>\n",
       "      <td>0</td>\n",
       "      <td>0</td>\n",
       "      <td>0</td>\n",
       "      <td>...</td>\n",
       "      <td>0</td>\n",
       "      <td>0</td>\n",
       "      <td>0</td>\n",
       "      <td>0</td>\n",
       "      <td>0</td>\n",
       "      <td>0</td>\n",
       "      <td>0</td>\n",
       "      <td>0</td>\n",
       "      <td>0</td>\n",
       "      <td>0</td>\n",
       "    </tr>\n",
       "    <tr>\n",
       "      <th>4</th>\n",
       "      <td>7</td>\n",
       "      <td>64698</td>\n",
       "      <td>4.2</td>\n",
       "      <td>216</td>\n",
       "      <td>20900</td>\n",
       "      <td>0</td>\n",
       "      <td>0</td>\n",
       "      <td>0</td>\n",
       "      <td>0</td>\n",
       "      <td>0</td>\n",
       "      <td>...</td>\n",
       "      <td>0</td>\n",
       "      <td>0</td>\n",
       "      <td>0</td>\n",
       "      <td>0</td>\n",
       "      <td>0</td>\n",
       "      <td>0</td>\n",
       "      <td>0</td>\n",
       "      <td>0</td>\n",
       "      <td>0</td>\n",
       "      <td>0</td>\n",
       "    </tr>\n",
       "    <tr>\n",
       "      <th>...</th>\n",
       "      <td>...</td>\n",
       "      <td>...</td>\n",
       "      <td>...</td>\n",
       "      <td>...</td>\n",
       "      <td>...</td>\n",
       "      <td>...</td>\n",
       "      <td>...</td>\n",
       "      <td>...</td>\n",
       "      <td>...</td>\n",
       "      <td>...</td>\n",
       "      <td>...</td>\n",
       "      <td>...</td>\n",
       "      <td>...</td>\n",
       "      <td>...</td>\n",
       "      <td>...</td>\n",
       "      <td>...</td>\n",
       "      <td>...</td>\n",
       "      <td>...</td>\n",
       "      <td>...</td>\n",
       "      <td>...</td>\n",
       "      <td>...</td>\n",
       "    </tr>\n",
       "    <tr>\n",
       "      <th>682</th>\n",
       "      <td>7</td>\n",
       "      <td>100495</td>\n",
       "      <td>4.6</td>\n",
       "      <td>1074</td>\n",
       "      <td>20885</td>\n",
       "      <td>0</td>\n",
       "      <td>0</td>\n",
       "      <td>0</td>\n",
       "      <td>0</td>\n",
       "      <td>0</td>\n",
       "      <td>...</td>\n",
       "      <td>0</td>\n",
       "      <td>0</td>\n",
       "      <td>0</td>\n",
       "      <td>0</td>\n",
       "      <td>0</td>\n",
       "      <td>0</td>\n",
       "      <td>0</td>\n",
       "      <td>0</td>\n",
       "      <td>0</td>\n",
       "      <td>0</td>\n",
       "    </tr>\n",
       "    <tr>\n",
       "      <th>683</th>\n",
       "      <td>8</td>\n",
       "      <td>74437</td>\n",
       "      <td>4.7</td>\n",
       "      <td>2096</td>\n",
       "      <td>24900</td>\n",
       "      <td>0</td>\n",
       "      <td>0</td>\n",
       "      <td>0</td>\n",
       "      <td>0</td>\n",
       "      <td>0</td>\n",
       "      <td>...</td>\n",
       "      <td>0</td>\n",
       "      <td>0</td>\n",
       "      <td>0</td>\n",
       "      <td>0</td>\n",
       "      <td>0</td>\n",
       "      <td>0</td>\n",
       "      <td>0</td>\n",
       "      <td>0</td>\n",
       "      <td>0</td>\n",
       "      <td>0</td>\n",
       "    </tr>\n",
       "    <tr>\n",
       "      <th>684</th>\n",
       "      <td>10</td>\n",
       "      <td>100495</td>\n",
       "      <td>4.2</td>\n",
       "      <td>55</td>\n",
       "      <td>16990</td>\n",
       "      <td>0</td>\n",
       "      <td>0</td>\n",
       "      <td>0</td>\n",
       "      <td>0</td>\n",
       "      <td>0</td>\n",
       "      <td>...</td>\n",
       "      <td>0</td>\n",
       "      <td>0</td>\n",
       "      <td>0</td>\n",
       "      <td>0</td>\n",
       "      <td>0</td>\n",
       "      <td>0</td>\n",
       "      <td>0</td>\n",
       "      <td>0</td>\n",
       "      <td>0</td>\n",
       "      <td>0</td>\n",
       "    </tr>\n",
       "    <tr>\n",
       "      <th>685</th>\n",
       "      <td>2</td>\n",
       "      <td>48335</td>\n",
       "      <td>4.8</td>\n",
       "      <td>630</td>\n",
       "      <td>52999</td>\n",
       "      <td>0</td>\n",
       "      <td>0</td>\n",
       "      <td>0</td>\n",
       "      <td>0</td>\n",
       "      <td>0</td>\n",
       "      <td>...</td>\n",
       "      <td>0</td>\n",
       "      <td>0</td>\n",
       "      <td>0</td>\n",
       "      <td>0</td>\n",
       "      <td>0</td>\n",
       "      <td>0</td>\n",
       "      <td>0</td>\n",
       "      <td>0</td>\n",
       "      <td>0</td>\n",
       "      <td>0</td>\n",
       "    </tr>\n",
       "    <tr>\n",
       "      <th>686</th>\n",
       "      <td>11</td>\n",
       "      <td>100495</td>\n",
       "      <td>4.6</td>\n",
       "      <td>634</td>\n",
       "      <td>14995</td>\n",
       "      <td>0</td>\n",
       "      <td>0</td>\n",
       "      <td>0</td>\n",
       "      <td>0</td>\n",
       "      <td>0</td>\n",
       "      <td>...</td>\n",
       "      <td>0</td>\n",
       "      <td>0</td>\n",
       "      <td>0</td>\n",
       "      <td>0</td>\n",
       "      <td>0</td>\n",
       "      <td>0</td>\n",
       "      <td>0</td>\n",
       "      <td>0</td>\n",
       "      <td>0</td>\n",
       "      <td>0</td>\n",
       "    </tr>\n",
       "  </tbody>\n",
       "</table>\n",
       "<p>687 rows × 164 columns</p>\n",
       "</div>"
      ],
      "text/plain": [
       "     NO_OF_YEARS  MILES_DRIVEN  RATE  NO_OF_REVIEWS  PRICE  \\\n",
       "0              3         43152   4.8            654  29587   \n",
       "1              5         32666   4.8           1048  31881   \n",
       "2              9         28552   4.6           1442  29000   \n",
       "3              0         16027   4.6           1442  39000   \n",
       "4              7         64698   4.2            216  20900   \n",
       "..           ...           ...   ...            ...    ...   \n",
       "682            7        100495   4.6           1074  20885   \n",
       "683            8         74437   4.7           2096  24900   \n",
       "684           10        100495   4.2             55  16990   \n",
       "685            2         48335   4.8            630  52999   \n",
       "686           11        100495   4.6            634  14995   \n",
       "\n",
       "     CAR_NAME_Audi A3 2.0 TDI Premium  CAR_NAME_Audi A3 2.0 TDI Premium Plus  \\\n",
       "0                                   0                                      0   \n",
       "1                                   0                                      0   \n",
       "2                                   0                                      0   \n",
       "3                                   0                                      0   \n",
       "4                                   0                                      0   \n",
       "..                                ...                                    ...   \n",
       "682                                 0                                      0   \n",
       "683                                 0                                      0   \n",
       "684                                 0                                      0   \n",
       "685                                 0                                      0   \n",
       "686                                 0                                      0   \n",
       "\n",
       "     CAR_NAME_Audi A3 2.0 TDI Prestige  CAR_NAME_Audi A3 2.0T Premium  \\\n",
       "0                                    0                              0   \n",
       "1                                    0                              0   \n",
       "2                                    0                              0   \n",
       "3                                    0                              0   \n",
       "4                                    0                              0   \n",
       "..                                 ...                            ...   \n",
       "682                                  0                              0   \n",
       "683                                  0                              0   \n",
       "684                                  0                              0   \n",
       "685                                  0                              0   \n",
       "686                                  0                              0   \n",
       "\n",
       "     CAR_NAME_Audi A3 2.0T Premium Plus  ...  CAR_NAME_Audi TT RS 2.5T  \\\n",
       "0                                     0  ...                         0   \n",
       "1                                     0  ...                         0   \n",
       "2                                     0  ...                         0   \n",
       "3                                     0  ...                         0   \n",
       "4                                     0  ...                         0   \n",
       "..                                  ...  ...                       ...   \n",
       "682                                   0  ...                         0   \n",
       "683                                   0  ...                         0   \n",
       "684                                   0  ...                         0   \n",
       "685                                   0  ...                         0   \n",
       "686                                   0  ...                         0   \n",
       "\n",
       "     CAR_NAME_Audi TTS 2.0T Premium quattro  \\\n",
       "0                                         0   \n",
       "1                                         0   \n",
       "2                                         0   \n",
       "3                                         0   \n",
       "4                                         0   \n",
       "..                                      ...   \n",
       "682                                       0   \n",
       "683                                       0   \n",
       "684                                       0   \n",
       "685                                       0   \n",
       "686                                       0   \n",
       "\n",
       "     CAR_NAME_Audi TTS 2.0T Prestige quattro  CAR_NAME_Audi TTS 2.0T quattro  \\\n",
       "0                                          0                               0   \n",
       "1                                          0                               0   \n",
       "2                                          0                               0   \n",
       "3                                          0                               0   \n",
       "4                                          0                               0   \n",
       "..                                       ...                             ...   \n",
       "682                                        0                               0   \n",
       "683                                        0                               0   \n",
       "684                                        0                               0   \n",
       "685                                        0                               0   \n",
       "686                                        0                               0   \n",
       "\n",
       "     CAR_NAME_Audi allroad 2.0T Premium Plus  \\\n",
       "0                                          0   \n",
       "1                                          0   \n",
       "2                                          0   \n",
       "3                                          0   \n",
       "4                                          0   \n",
       "..                                       ...   \n",
       "682                                        0   \n",
       "683                                        0   \n",
       "684                                        0   \n",
       "685                                        0   \n",
       "686                                        0   \n",
       "\n",
       "     CAR_NAME_Audi allroad 2.0T Premium Plus quattro  \\\n",
       "0                                                  0   \n",
       "1                                                  0   \n",
       "2                                                  0   \n",
       "3                                                  0   \n",
       "4                                                  0   \n",
       "..                                               ...   \n",
       "682                                                0   \n",
       "683                                                0   \n",
       "684                                                0   \n",
       "685                                                0   \n",
       "686                                                0   \n",
       "\n",
       "     CAR_NAME_Audi allroad 2.0T Premium quattro  CAR_NAME_Audi e-tron Premium  \\\n",
       "0                                             0                             0   \n",
       "1                                             0                             0   \n",
       "2                                             0                             0   \n",
       "3                                             0                             0   \n",
       "4                                             0                             0   \n",
       "..                                          ...                           ...   \n",
       "682                                           0                             0   \n",
       "683                                           0                             0   \n",
       "684                                           0                             0   \n",
       "685                                           0                             0   \n",
       "686                                           0                             0   \n",
       "\n",
       "     CAR_NAME_Audi e-tron Premium Plus  CAR_NAME_Audi e-tron Prestige  \n",
       "0                                    0                              0  \n",
       "1                                    0                              0  \n",
       "2                                    0                              0  \n",
       "3                                    0                              0  \n",
       "4                                    0                              0  \n",
       "..                                 ...                            ...  \n",
       "682                                  0                              0  \n",
       "683                                  0                              0  \n",
       "684                                  0                              0  \n",
       "685                                  0                              0  \n",
       "686                                  0                              0  \n",
       "\n",
       "[687 rows x 164 columns]"
      ]
     },
     "execution_count": 10,
     "metadata": {},
     "output_type": "execute_result"
    }
   ],
   "source": [
    "pd.get_dummies(df, drop_first=True)"
   ]
  },
  {
   "cell_type": "code",
   "execution_count": 11,
   "metadata": {},
   "outputs": [
    {
     "data": {
      "text/plain": [
       "Index(['CAR_NAME', 'NO_OF_YEARS', 'MILES_DRIVEN', 'RATE', 'NO_OF_REVIEWS',\n",
       "       'PRICE'],\n",
       "      dtype='object')"
      ]
     },
     "execution_count": 11,
     "metadata": {},
     "output_type": "execute_result"
    }
   ],
   "source": [
    "df.columns"
   ]
  },
  {
   "cell_type": "markdown",
   "metadata": {},
   "source": [
    "# Modeling"
   ]
  },
  {
   "cell_type": "code",
   "execution_count": 12,
   "metadata": {},
   "outputs": [],
   "source": [
    "#Tr = Te (low) -- underfit\n",
    "#Tr = Te (high) -- good fit\n",
    "#Tr > Te -- overfit\n",
    "#Tr < Te -- outliers"
   ]
  },
  {
   "cell_type": "markdown",
   "metadata": {},
   "source": [
    "### Split Data"
   ]
  },
  {
   "cell_type": "code",
   "execution_count": 13,
   "metadata": {},
   "outputs": [],
   "source": [
    "#Separate our features from our target(train and test)\n",
    "x = df.drop(columns=['PRICE','CAR_NAME']) #features\n",
    "y = df['PRICE'] #target\n",
    "\n",
    "X, X_test, Y, y_test = train_test_split(x, y, test_size=0.2, random_state=0)\n",
    "X_train, X_val, y_train, y_val = train_test_split(X, Y, test_size=0.2, random_state=0)"
   ]
  },
  {
   "cell_type": "markdown",
   "metadata": {},
   "source": [
    "### 1- Linear simple Regression"
   ]
  },
  {
   "cell_type": "code",
   "execution_count": 14,
   "metadata": {},
   "outputs": [
    {
     "name": "stdout",
     "output_type": "stream",
     "text": [
      "Linear Regression Train R^2 score was: 0.76114\n",
      "Linear Regression Validation R^2 score was: 0.74205\n"
     ]
    }
   ],
   "source": [
    "# Fit a simple linear regression on training and val\n",
    "lr = LinearRegression()\n",
    "lr.fit(X_train,y_train)\n",
    "print(f'Linear Regression Train R^2 score was: {lr.score(X_train,y_train):.5f}')  \n",
    "print(f'Linear Regression Validation R^2 score was: {lr.score(X_val,y_val) :.5f}')"
   ]
  },
  {
   "cell_type": "markdown",
   "metadata": {},
   "source": [
    "### 2- Linear Regression with Polynomial"
   ]
  },
  {
   "cell_type": "code",
   "execution_count": 15,
   "metadata": {},
   "outputs": [
    {
     "name": "stdout",
     "output_type": "stream",
     "text": [
      "Degree 2 Polynomial Regression Train R^2 score was: 0.77348\n",
      "Degree 2 Polynomial Regression Validation R^2 score was: 0.73379\n"
     ]
    }
   ],
   "source": [
    "#Feature transforms for train and val so, that we can run our poly model on each\n",
    "poly = PolynomialFeatures(degree=2) \n",
    "\n",
    "X_train_poly = poly.fit_transform(X_train.values)\n",
    "X_val_poly = poly.transform(X_val.values)\n",
    "\n",
    "lm_poly = LinearRegression()\n",
    "lm_poly.fit(X_train_poly, y_train)\n",
    "print(f'Degree 2 Polynomial Regression Train R^2 score was: {lm_poly.score(X_train_poly, y_train):.5f}')\n",
    "print(f'Degree 2 Polynomial Regression Validation R^2 score was: {lm_poly.score(X_val_poly, y_val):.5f}')"
   ]
  },
  {
   "cell_type": "markdown",
   "metadata": {},
   "source": [
    "### KFOLD"
   ]
  },
  {
   "cell_type": "code",
   "execution_count": 16,
   "metadata": {},
   "outputs": [],
   "source": [
    "x = df.drop(columns=['PRICE','CAR_NAME']) #features\n",
    "y = df['PRICE'] #target\n",
    "\n",
    "X, X_test, Y, y_test = train_test_split(x, y, test_size=0.2, random_state=0)\n",
    "X_train, X_val, y_train, y_val = train_test_split(X, Y, test_size=0.2, random_state=0)\n",
    "\n",
    "#this helps with the way kf will generate indices below\n",
    "x1, y1 = np.array(X), np.array(Y)"
   ]
  },
  {
   "cell_type": "markdown",
   "metadata": {},
   "source": [
    "### 3- Ridge Regression"
   ]
  },
  {
   "cell_type": "code",
   "execution_count": 17,
   "metadata": {},
   "outputs": [
    {
     "name": "stdout",
     "output_type": "stream",
     "text": [
      "Ridge Regression Train R^2 score was: 0.75584\n",
      "Ridge Regression Validation R^2 score was: 0.75785\n"
     ]
    }
   ],
   "source": [
    "kf = KFold(n_splits=5, shuffle=True, random_state = 0)\n",
    "\n",
    "for train_ind, val_ind in kf.split(x1,y1):\n",
    "    \n",
    "    X_train, y_train = x1[train_ind], y1[train_ind]\n",
    "    X_val, y_val = x1[val_ind], y1[val_ind] \n",
    "    \n",
    "    lm_reg = Ridge(alpha=1)\n",
    "    \n",
    "    #ridge with feature scaling\n",
    "    scaler = StandardScaler()\n",
    "    X_train_scaled = scaler.fit_transform(X_train)\n",
    "    X_val_scaled = scaler.transform(X_val)\n",
    "    \n",
    "    lm_reg.fit(X_train_scaled, y_train)\n",
    "\n",
    "print(f'Ridge Regression Train R^2 score was: {lm_reg.score(X_train_scaled, y_train):.5f}')\n",
    "print(f'Ridge Regression Validation R^2 score was: {lm_reg.score(X_val_scaled, y_val):.5f}')"
   ]
  },
  {
   "cell_type": "markdown",
   "metadata": {},
   "source": [
    "### 4- Lasso Regression"
   ]
  },
  {
   "cell_type": "code",
   "execution_count": 18,
   "metadata": {},
   "outputs": [
    {
     "name": "stdout",
     "output_type": "stream",
     "text": [
      "Lasso Regression Train R^2 score was: 0.75584\n",
      "Lasso Regression Validation R^2 score was: 0.75771\n"
     ]
    }
   ],
   "source": [
    "CV_flag = True\n",
    "alphavec = [0.1,0.01, 0.001]    \n",
    "kf = KFold(n_splits=5, shuffle=True, random_state = 0) \n",
    "\n",
    "if CV_flag is True:\n",
    "    m = LassoCV(alphas = alphavec, cv = 5)\n",
    "    m.fit(X_train, y_train)\n",
    "else:\n",
    "    m = Lasso(alpha = 1) \n",
    "    m.fit(X_train, y_train)\n",
    "\n",
    "    valid_scores = cross_val_score(m, X_train, y_train, cv=kf)\n",
    "    \n",
    "print(f'Lasso Regression Train R^2 score was: {m.score(X_train,y_train):.5f}')\n",
    "print(f'Lasso Regression Validation R^2 score was: {m.score(X_val, y_val):.5f}')"
   ]
  },
  {
   "cell_type": "markdown",
   "metadata": {},
   "source": [
    "### 5- Linear CV"
   ]
  },
  {
   "cell_type": "code",
   "execution_count": 19,
   "metadata": {},
   "outputs": [
    {
     "name": "stdout",
     "output_type": "stream",
     "text": [
      "Linear CV Regression Train R^2 score was: 0.75584\n",
      "Linear CV Regression Validation R^2 score was: 0.75770\n"
     ]
    }
   ],
   "source": [
    "# Notice that we are splitting the X_train data into 5 Folds\n",
    "kfold = KFold(n_splits=5, shuffle=True, random_state=0)\n",
    "\n",
    "lin_reg_est = LinearRegression()\n",
    "\n",
    "scores = cross_val_score(lin_reg_est, X_train, y_train, cv=kfold)\n",
    "\n",
    "# Build the Model\n",
    "lin_reg_est.fit(X_train, y_train)\n",
    "print(f'Linear CV Regression Train R^2 score was: {lin_reg_est.score(X_train, y_train):.5f}')\n",
    "print(f'Linear CV Regression Validation R^2 score was: {lin_reg_est.score(X_val, y_val):.5f}')"
   ]
  },
  {
   "cell_type": "markdown",
   "metadata": {},
   "source": [
    "## Best Model"
   ]
  },
  {
   "cell_type": "code",
   "execution_count": 20,
   "metadata": {},
   "outputs": [
    {
     "name": "stdout",
     "output_type": "stream",
     "text": [
      "Test R^2 score was: 0.77345\n"
     ]
    }
   ],
   "source": [
    "#test the choosen model(Ridge Regression)\n",
    "lm_reg_best = Ridge(alpha=1)\n",
    "lm_reg_best.fit(X_train, y_train)\n",
    "\n",
    "print(f'Test R^2 score was: {r2_score(y_test, lm_reg_best.predict(X_test)):.5f}')"
   ]
  },
  {
   "cell_type": "code",
   "execution_count": 21,
   "metadata": {},
   "outputs": [],
   "source": [
    "X_train, X_holdout, y_train, y_holdout = train_test_split(x, y, test_size=0.2, random_state=0)"
   ]
  },
  {
   "cell_type": "code",
   "execution_count": 22,
   "metadata": {},
   "outputs": [],
   "source": [
    "lm_reg.fit(X_train, y_train)\n",
    "y_pred_train=lm_reg.predict(X_train)\n",
    "y_pred_val=lm_reg.predict(X_val)\n",
    "y_pred_test=lm_reg.predict(X_test)"
   ]
  },
  {
   "cell_type": "markdown",
   "metadata": {},
   "source": [
    "## MSE, RMSE, MAE and R2"
   ]
  },
  {
   "cell_type": "markdown",
   "metadata": {},
   "source": [
    "### For Validation Data"
   ]
  },
  {
   "cell_type": "code",
   "execution_count": 23,
   "metadata": {},
   "outputs": [
    {
     "name": "stdout",
     "output_type": "stream",
     "text": [
      "Mean Square Error =  38609913.35400662\n",
      "Root Mean Square Error = 6213.687580978514\n",
      "Mean Absoluter Error= 5175.960996720639\n",
      "The R square Error= 0.729045517533306\n"
     ]
    }
   ],
   "source": [
    "MSE = mean_squared_error(y_pred_val, y_val, squared=True)\n",
    "print('Mean Square Error = ', MSE)\n",
    "\n",
    "RMSE = mean_squared_error(y_pred_val,y_val, squared=False)\n",
    "print ('Root Mean Square Error =', RMSE)\n",
    "\n",
    "MAE = mean_absolute_error(y_pred_val,y_val)\n",
    "print ('Mean Absoluter Error=', MAE)\n",
    "\n",
    "r_square = r2_score(y_pred_val,y_val)\n",
    "print ('The R square Error=', r_square)"
   ]
  },
  {
   "cell_type": "markdown",
   "metadata": {},
   "source": [
    "## Evaluating Ridge Regression Model"
   ]
  },
  {
   "cell_type": "code",
   "execution_count": 24,
   "metadata": {},
   "outputs": [
    {
     "data": {
      "text/plain": [
       "[<matplotlib.lines.Line2D at 0x2c4f1134190>]"
      ]
     },
     "execution_count": 24,
     "metadata": {},
     "output_type": "execute_result"
    },
    {
     "data": {
      "image/png": "[encoded data removed]",
      "text/plain": [
       "<Figure size 432x288 with 1 Axes>"
      ]
     },
     "metadata": {
      "needs_background": "light"
     },
     "output_type": "display_data"
    }
   ],
   "source": [
    "# Fitted vs. Actual\n",
    "y_train_pred = lm_reg.predict(X_test)\n",
    "\n",
    "plt.scatter(y_train, y_pred_train, alpha=1)\n",
    "plt.plot([0, 300], [0, 300])"
   ]
  },
  {
   "cell_type": "code",
   "execution_count": 25,
   "metadata": {},
   "outputs": [
    {
     "data": {
      "text/plain": [
       "[<matplotlib.lines.Line2D at 0x2c4f123b1c0>]"
      ]
     },
     "execution_count": 25,
     "metadata": {},
     "output_type": "execute_result"
    },
    {
     "data": {
      "image/png": "[encoded data removed]",
      "text/plain": [
       "<Figure size 432x288 with 1 Axes>"
      ]
     },
     "metadata": {
      "needs_background": "light"
     },
     "output_type": "display_data"
    }
   ],
   "source": [
    "# Fitted vs. Actual\n",
    "y_test_pred = lm_reg.predict(X_holdout)\n",
    "\n",
    "plt.scatter(y_holdout, y_test_pred)\n",
    "plt.plot([0, 300], [0,300])"
   ]
  },
  {
   "cell_type": "code",
   "execution_count": 26,
   "metadata": {},
   "outputs": [
    {
     "data": {
      "text/plain": [
       "Text(0.5, 1.0, 'Residuals vs. Predictions')"
      ]
     },
     "execution_count": 26,
     "metadata": {},
     "output_type": "execute_result"
    },
    {
     "data": {
      "image/png": "[encoded data removed]",
      "text/plain": [
       "<Figure size 432x288 with 1 Axes>"
      ]
     },
     "metadata": {
      "needs_background": "light"
     },
     "output_type": "display_data"
    }
   ],
   "source": [
    "# Plot Residuals vs. predicted\n",
    "\n",
    "lm_reg_residuals = y_train - y_pred_train\n",
    "\n",
    "plt.scatter(y_pred_train, lm_reg_residuals)\n",
    "plt.plot([0,400], [0, 0])\n",
    "plt.title(\"Residuals vs. Predictions\")"
   ]
  },
  {
   "cell_type": "code",
   "execution_count": 28,
   "metadata": {},
   "outputs": [
    {
     "name": "stderr",
     "output_type": "stream",
     "text": [
      "C:\\Users\\Rahaf\\anaconda3\\lib\\site-packages\\seaborn\\_decorators.py:36: FutureWarning: Pass the following variables as keyword args: x, y. From version 0.12, the only valid positional argument will be `data`, and passing other arguments without an explicit keyword will result in an error or misinterpretation.\n",
      "  warnings.warn(\n"
     ]
    },
    {
     "data": {
      "text/plain": [
       "<seaborn.axisgrid.JointGrid at 0x2c4f11a5f40>"
      ]
     },
     "execution_count": 28,
     "metadata": {},
     "output_type": "execute_result"
    },
    {
     "data": {
      "image/png": "[encoded data removed]",
      "text/plain": [
       "<Figure size 432x432 with 3 Axes>"
      ]
     },
     "metadata": {
      "needs_background": "light"
     },
     "output_type": "display_data"
    }
   ],
   "source": [
    "sns.jointplot(y_test_pred, y_holdout, kind='reg')"
   ]
  },
  {
   "cell_type": "code",
   "execution_count": 30,
   "metadata": {},
   "outputs": [
    {
     "name": "stderr",
     "output_type": "stream",
     "text": [
      "C:\\Users\\Rahaf\\anaconda3\\lib\\site-packages\\seaborn\\_decorators.py:36: FutureWarning: Pass the following variables as keyword args: x, y. From version 0.12, the only valid positional argument will be `data`, and passing other arguments without an explicit keyword will result in an error or misinterpretation.\n",
      "  warnings.warn(\n"
     ]
    },
    {
     "data": {
      "text/plain": [
       "<seaborn.axisgrid.JointGrid at 0x2c4f1558f10>"
      ]
     },
     "execution_count": 30,
     "metadata": {},
     "output_type": "execute_result"
    },
    {
     "data": {
      "image/png": "[encoded data removed]",
      "text/plain": [
       "<Figure size 432x432 with 3 Axes>"
      ]
     },
     "metadata": {
      "needs_background": "light"
     },
     "output_type": "display_data"
    }
   ],
   "source": [
    "sns.jointplot(y_test_pred, y_holdout - y_test_pred, kind='reg')"
   ]
  },
  {
   "cell_type": "code",
   "execution_count": 32,
   "metadata": {},
   "outputs": [
    {
     "data": {
      "text/plain": [
       "<seaborn.axisgrid.FacetGrid at 0x2c4f2632f40>"
      ]
     },
     "execution_count": 32,
     "metadata": {},
     "output_type": "execute_result"
    },
    {
     "data": {
      "image/png": "[encoded data removed]",
      "text/plain": [
       "<Figure size 288x288 with 1 Axes>"
      ]
     },
     "metadata": {
      "needs_background": "light"
     },
     "output_type": "display_data"
    }
   ],
   "source": [
    "sns.lmplot(x=\"NO_OF_YEARS\" , y=\"PRICE\" , ci= None, data =df , height=4)"
   ]
  },
  {
   "cell_type": "code",
   "execution_count": 33,
   "metadata": {},
   "outputs": [
    {
     "data": {
      "text/plain": [
       "<seaborn.axisgrid.FacetGrid at 0x2c4f26d2c40>"
      ]
     },
     "execution_count": 33,
     "metadata": {},
     "output_type": "execute_result"
    },
    {
     "data": {
      "image/png": "[encoded data removed]",
      "text/plain": [
       "<Figure size 288x288 with 1 Axes>"
      ]
     },
     "metadata": {
      "needs_background": "light"
     },
     "output_type": "display_data"
    }
   ],
   "source": [
    "sns.lmplot(x=\"MILES_DRIVEN\" , y=\"PRICE\" , ci= None, data =df , height=4)"
   ]
  }
 ],
 "metadata": {
  "kernelspec": {
   "display_name": "Python 3",
   "language": "python",
   "name": "python3"
  },
  "language_info": {
   "codemirror_mode": {
    "name": "ipython",
    "version": 3
   },
   "file_extension": ".py",
   "mimetype": "text/x-python",
   "name": "python",
   "nbconvert_exporter": "python",
   "pygments_lexer": "ipython3",
   "version": "3.8.5"
  }
 },
 "nbformat": 4,
 "nbformat_minor": 4
}
